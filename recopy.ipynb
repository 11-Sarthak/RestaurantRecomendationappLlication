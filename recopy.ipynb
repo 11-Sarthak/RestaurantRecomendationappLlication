{
 "cells": [
  {
   "cell_type": "code",
   "execution_count": 14,
   "metadata": {},
   "outputs": [],
   "source": [
    "import pandas as pd\n"
   ]
  },
  {
   "cell_type": "code",
   "execution_count": 15,
   "metadata": {},
   "outputs": [],
   "source": [
    "df = pd.read_csv(\"Restaurants.csv\",encoding=\"latin-1\")"
   ]
  },
  {
   "cell_type": "code",
   "execution_count": 16,
   "metadata": {},
   "outputs": [],
   "source": [
    "df = df[[\"Restaurant Name\", \"Cuisines\", \"Average Cost for two\", \"Aggregate rating\", \"City\"]]"
   ]
  },
  {
   "cell_type": "markdown",
   "metadata": {},
   "source": []
  },
  {
   "cell_type": "code",
   "execution_count": 17,
   "metadata": {},
   "outputs": [],
   "source": [
    "df.dropna(inplace=True)"
   ]
  },
  {
   "cell_type": "code",
   "execution_count": 18,
   "metadata": {},
   "outputs": [],
   "source": [
    "df[\"City\"] = df[\"City\"].astype(str).str.strip().str.lower()\n",
    "df[\"Cuisines\"] = df[\"Cuisines\"].astype(str).str.strip().str.lower()"
   ]
  },
  {
   "cell_type": "code",
   "execution_count": 19,
   "metadata": {},
   "outputs": [],
   "source": [
    "def recommend_restaurants(cuisine, min_price, max_price, city, top_n=5):\n",
    "    print(f\"➡ Total records before filtering: {len(df)}\")\n",
    "\n",
    "    # Standardize input\n",
    "    city = city.strip().lower()\n",
    "    cuisine = cuisine.strip().lower()\n",
    "\n",
    "    # Filter by city\n",
    "    filtered_df = df[df[\"City\"] == city]\n",
    "    print(\"➡ After city filter:\", len(filtered_df))\n",
    "\n",
    "    # Filter by cuisine\n",
    "    filtered_df = filtered_df[filtered_df[\"Cuisines\"].str.contains(cuisine, na=False)]\n",
    "    print(\"➡ After cuisine filter:\", len(filtered_df))\n",
    "\n",
    "    # Filter by price range\n",
    "    filtered_df = filtered_df[\n",
    "        (filtered_df[\"Average Cost for two\"] >= min_price) &\n",
    "        (filtered_df[\"Average Cost for two\"] <= max_price)\n",
    "    ]\n",
    "    print(\"➡ After price filter:\", len(filtered_df))\n",
    "\n",
    "    # Check if any results\n",
    "    if filtered_df.empty:\n",
    "        print(\"❌ No restaurants found matching the criteria.\")\n",
    "        return\n",
    "\n",
    "    # Sort by rating\n",
    "    sorted_df = filtered_df.sort_values(by=\"Aggregate rating\", ascending=False)\n",
    "\n",
    "    # Show top N\n",
    "    print(\"✅ Top Matches:\")\n",
    "    for i, (_, row) in enumerate(sorted_df.head(top_n).iterrows(), 1):\n",
    "        print(f\"{i}. {row['Restaurant Name']} - {row['Cuisines']} - ₹{row['Average Cost for two']} - ⭐ {row['Aggregate rating']}\")\n"
   ]
  },
  {
   "cell_type": "code",
   "execution_count": 22,
   "metadata": {},
   "outputs": [
    {
     "name": "stdout",
     "output_type": "stream",
     "text": [
      "➡ Total records before filtering: 9542\n",
      "➡ After city filter: 5473\n",
      "➡ After cuisine filter: 2425\n",
      "➡ After price filter: 2061\n",
      "✅ Top Matches:\n",
      "1. Food Scouts - north indian, chinese, continental - ₹700 - ⭐ 4.6\n",
      "2. Midnight Hunger Hub - north indian, fast food, italian, asian - ₹800 - ⭐ 4.5\n",
      "3. The Last Mughal (TLM) - north indian, mughlai - ₹750 - ⭐ 4.4\n",
      "4. Dilli BC - north indian, mughlai - ₹700 - ⭐ 4.4\n",
      "5. Ghar Bistro Cafe - continental, north indian, chinese, mughlai, asian - ₹800 - ⭐ 4.4\n"
     ]
    }
   ],
   "source": [
    "recommend_restaurants(\n",
    "    cuisine=\"North Indian\",\n",
    "    min_price=100,\n",
    "    max_price=1000,\n",
    "    city=\"new delhi\",\n",
    "    top_n=5\n",
    ")\n",
    "\n"
   ]
  },
  {
   "cell_type": "code",
   "execution_count": 21,
   "metadata": {},
   "outputs": [
    {
     "name": "stdout",
     "output_type": "stream",
     "text": [
      "['makati city' 'mandaluyong city' 'pasay city' 'pasig city' 'quezon city'\n",
      " 'san juan city' 'santa rosa' 'tagaytay city' 'taguig city' 'brasï¿½_lia'\n",
      " 'rio de janeiro' 'sï¿½ï¿½o paulo' 'albany' 'armidale' 'athens' 'augusta'\n",
      " 'balingup' 'beechworth' 'boise' 'cedar rapids/iowa city' 'chatham-kent'\n",
      " 'clatskanie' 'cochrane' 'columbus' 'consort' 'dalton' 'davenport'\n",
      " 'des moines' 'dicky beach' 'dubuque' 'east ballina' 'fernley' 'flaxton'\n",
      " 'forrest' 'gainesville' 'hepburn springs' 'huskisson' 'inverloch'\n",
      " 'lakes entrance' 'lakeview' 'lincoln' 'lorn' 'macedon' 'macon' 'mayfield'\n",
      " 'mc millan' 'middleton beach' 'monroe' 'montville' 'ojo caliente'\n",
      " 'orlando' 'palm cove' 'paynesville' 'penola' 'pensacola' 'phillip island'\n",
      " 'pocatello' 'potrero' 'princeton' 'rest of hawaii' 'savannah' 'singapore'\n",
      " 'sioux city' 'tampa bay' 'tanunda' 'trentham east' 'valdosta' 'vernonia'\n",
      " 'victor harbor' 'vineland station' 'waterloo' 'weirton' 'winchester bay'\n",
      " 'yorkton' 'abu dhabi' 'dubai' 'sharjah' 'agra' 'ahmedabad' 'allahabad'\n",
      " 'amritsar' 'aurangabad' 'bangalore' 'bhopal' 'bhubaneshwar' 'chandigarh'\n",
      " 'chennai' 'coimbatore' 'dehradun' 'faridabad' 'ghaziabad' 'goa' 'gurgaon'\n",
      " 'guwahati' 'hyderabad' 'indore' 'jaipur' 'kanpur' 'kochi' 'kolkata'\n",
      " 'lucknow' 'ludhiana' 'mangalore' 'mohali' 'mumbai' 'mysore' 'nagpur'\n",
      " 'nashik' 'new delhi' 'noida' 'panchkula' 'patna' 'puducherry' 'pune'\n",
      " 'ranchi' 'secunderabad' 'surat' 'vadodara' 'varanasi' 'vizag' 'bandung'\n",
      " 'bogor' 'jakarta' 'tangerang' 'auckland' 'wellington city' 'birmingham'\n",
      " 'edinburgh' 'london' 'manchester' 'doha' 'cape town' 'inner city'\n",
      " 'johannesburg' 'pretoria' 'randburg' 'sandton' 'colombo' 'ankara'\n",
      " 'ï¿½ï¿½stanbul']\n"
     ]
    }
   ],
   "source": [
    "print(df[\"City\"].unique())\n"
   ]
  },
  {
   "cell_type": "code",
   "execution_count": null,
   "metadata": {},
   "outputs": [],
   "source": []
  }
 ],
 "metadata": {
  "kernelspec": {
   "display_name": "base",
   "language": "python",
   "name": "python3"
  },
  "language_info": {
   "codemirror_mode": {
    "name": "ipython",
    "version": 3
   },
   "file_extension": ".py",
   "mimetype": "text/x-python",
   "name": "python",
   "nbconvert_exporter": "python",
   "pygments_lexer": "ipython3",
   "version": "3.12.7"
  }
 },
 "nbformat": 4,
 "nbformat_minor": 2
}
